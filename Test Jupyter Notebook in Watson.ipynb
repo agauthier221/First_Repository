{
    "cells": [
        {
            "cell_type": "markdown",
            "metadata": {},
            "source": "# My Jupyter Notebook on IBM Watson Studio"
        },
        {
            "cell_type": "markdown",
            "metadata": {},
            "source": "**Alexis Gauthier**\n\nAspiring Data Scientist"
        },
        {
            "cell_type": "markdown",
            "metadata": {},
            "source": "*Learning how to use data science tools step by step!*"
        },
        {
            "cell_type": "markdown",
            "metadata": {},
            "source": "### Simple Code Below:"
        },
        {
            "cell_type": "code",
            "execution_count": 5,
            "metadata": {},
            "outputs": [
                {
                    "name": "stdout",
                    "output_type": "stream",
                    "text": "2.5\n"
                }
            ],
            "source": "print(1+1*3/2)"
        },
        {
            "cell_type": "markdown",
            "metadata": {},
            "source": "### Simple List Below:"
        },
        {
            "cell_type": "markdown",
            "metadata": {},
            "source": "1. One\n2. Two\n3. Three"
        },
        {
            "cell_type": "code",
            "execution_count": null,
            "metadata": {},
            "outputs": [],
            "source": ""
        }
    ],
    "metadata": {
        "kernelspec": {
            "display_name": "Python 3.10",
            "language": "python",
            "name": "python3"
        },
        "language_info": {
            "codemirror_mode": {
                "name": "ipython",
                "version": 3
            },
            "file_extension": ".py",
            "mimetype": "text/x-python",
            "name": "python",
            "nbconvert_exporter": "python",
            "pygments_lexer": "ipython3",
            "version": "3.10.9"
        }
    },
    "nbformat": 4,
    "nbformat_minor": 1
}